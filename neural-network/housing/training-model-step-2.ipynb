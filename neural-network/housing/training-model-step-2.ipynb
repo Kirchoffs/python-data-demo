{
 "cells": [
  {
   "cell_type": "code",
   "execution_count": 1,
   "id": "993416ae",
   "metadata": {},
   "outputs": [],
   "source": [
    "# !python -m pip install tensorflow\n",
    "# !python -m pip uninstall tensorflow --yes "
   ]
  },
  {
   "cell_type": "code",
   "execution_count": null,
   "id": "269ea1de-ba7e-436b-81ef-454e1eb39aa5",
   "metadata": {},
   "outputs": [],
   "source": [
    "import pandas as pd\n",
    "import numpy as np\n",
    "\n",
    "def normalize_feature(df):\n",
    "    return df.apply(lambda column: (column - column.mean()) / column.std())\n",
    "\n",
    "df = normalize_feature(pd.read_csv('data-3d.csv', names = ['square', 'bedrooms', 'price']))\n",
    "ones = pd.DataFrame({'ones': np.ones(len(df))})\n",
    "df = pd.concat([ones, df], axis = 1)\n",
    "df.head()"
   ]
  },
  {
   "cell_type": "code",
   "execution_count": null,
   "id": "2b581c95-24ab-4a54-80dc-bbd1e21e0b90",
   "metadata": {},
   "outputs": [],
   "source": [
    "print(df.columns[0:3]) "
   ]
  },
  {
   "cell_type": "code",
   "execution_count": null,
   "id": "77e0907e-6606-43ea-b848-e177ab3aa944",
   "metadata": {},
   "outputs": [],
   "source": [
    "X_data = np.array(df[df.columns[0:3]])\n",
    "y_data = np.array(df[df.columns[-1]]).reshape(len(df), 1)\n",
    "\n",
    "print(X_data.shape, type(X_data))\n",
    "print(y_data.shape, type(y_data))"
   ]
  },
  {
   "cell_type": "code",
   "execution_count": 4,
   "id": "21002ca5",
   "metadata": {},
   "outputs": [],
   "source": [
    "import tensorflow.compat.v1 as tf\n",
    "tf.disable_eager_execution()\n",
    "\n",
    "alpha = 0.01\n",
    "epoch = 500\n",
    "\n",
    "X = tf.placeholder(tf.float32, X_data.shape)\n",
    "y = tf.placeholder(tf.float32, y_data.shape)\n",
    "\n",
    "W = tf.get_variable(\"weights\", (X_data.shape[1], 1), initializer = tf.constant_initializer())\n",
    "\n",
    "y_pred = tf.matmul(X, W)\n",
    "\n",
    "loss_op = 1 / (2 * len(X_data)) * tf.matmul((y_pred - y), (y_pred - y), transpose_a = True)\n",
    "optimizer = tf.train.GradientDescentOptimizer(learning_rate = alpha)\n",
    "train_op = optimizer.minimize(loss_op)"
   ]
  },
  {
   "cell_type": "code",
   "execution_count": null,
   "id": "88bf06a8-26ee-454d-8279-a9683e6ecfce",
   "metadata": {},
   "outputs": [],
   "source": [
    "with tf.Session() as sess:\n",
    "    sess.run(tf.global_variables_initializer())\n",
    "    for i in range(1, epoch + 1):\n",
    "        sess.run(train_op, feed_dict = {X: X_data, y: y_data})\n",
    "        if i % 10 == 0:\n",
    "            loss, w = sess.run([loss_op, W], feed_dict = {X: X_data, y: y_data})\n",
    "            log_str = \"Epoch %d \\t Loss=%.4g \\t Model: y = %.4gx1 + %.4gx2 + %.4g\"\n",
    "            print(log_str % (i, loss, w[1], w[2], w[0]))"
   ]
  }
 ],
 "metadata": {
  "kernelspec": {
   "display_name": "Python (tensorflow)",
   "language": "python",
   "name": "tensorflow"
  },
  "language_info": {
   "codemirror_mode": {
    "name": "ipython",
    "version": 3
   },
   "file_extension": ".py",
   "mimetype": "text/x-python",
   "name": "python",
   "nbconvert_exporter": "python",
   "pygments_lexer": "ipython3",
   "version": "3.10.12"
  }
 },
 "nbformat": 4,
 "nbformat_minor": 5
}
