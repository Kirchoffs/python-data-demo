{
 "cells": [
  {
   "cell_type": "code",
   "execution_count": null,
   "id": "21237045-4fe4-4cc3-9a4b-b98a8d986b53",
   "metadata": {},
   "outputs": [],
   "source": [
    "import pandas as pd\n",
    "import numpy as np\n",
    "\n",
    "def normalize_feature(df):\n",
    "    return df.apply(lambda column: (column - column.mean()) / column.std())\n",
    "\n",
    "\n",
    "df = normalize_feature(pd.read_csv('data-3d.csv', names = ['square', 'bedrooms', 'price']))\n",
    "\n",
    "ones = pd.DataFrame({'ones': np.ones(len(df))})\n",
    "df = pd.concat([ones, df], axis = 1)\n",
    "\n",
    "X_data = np.array(df[df.columns[0:3]])\n",
    "y_data = np.array(df[df.columns[-1]]).reshape(len(df), 1)\n",
    "\n",
    "print(X_data.shape, type(X_data))\n",
    "print(y_data.shape, type(y_data))"
   ]
  },
  {
   "cell_type": "code",
   "execution_count": 2,
   "id": "e7b4077b-2252-4976-9cdd-56342a79886b",
   "metadata": {},
   "outputs": [],
   "source": [
    "import tensorflow.compat.v1 as tf\n",
    "tf.disable_eager_execution()\n",
    "\n",
    "alpha = 0.01\n",
    "epoch = 500\n",
    "\n",
    "with tf.name_scope('input'):\n",
    "    X = tf.placeholder(tf.float32, X_data.shape, name = 'X')\n",
    "    y = tf.placeholder(tf.float32, y_data.shape, name = 'y')\n",
    "\n",
    "with tf.name_scope('hypothesis'):\n",
    "    W = tf.get_variable(\"weights\", (X_data.shape[1], 1), initializer = tf.constant_initializer())\n",
    "    y_pred = tf.matmul(X, W, name = 'y_pred')\n",
    "\n",
    "with tf.name_scope('loss'):\n",
    "    loss_op = 1 / (2 * len(X_data)) * tf.matmul(y_pred - y, y_pred - y, transpose_a = True)\n",
    "    \n",
    "with tf.name_scope('train'):\n",
    "    train_op = tf.train.GradientDescentOptimizer(learning_rate = alpha).minimize(loss_op)"
   ]
  },
  {
   "cell_type": "code",
   "execution_count": null,
   "id": "104d2bb0-484c-463d-ae4d-efd8ee8690e0",
   "metadata": {},
   "outputs": [],
   "source": [
    "with tf.Session() as sess:\n",
    "    sess.run(tf.global_variables_initializer())\n",
    "    writer = tf.summary.FileWriter('./summary/linear-regression-3d', sess.graph)\n",
    "    loss_data = []\n",
    "    for e in range(1, epoch + 1):\n",
    "        _, loss, w = sess.run([train_op, loss_op, W], feed_dict={X: X_data, y: y_data})\n",
    "        loss_data.append(float(loss))\n",
    "        if e % 100 == 0:\n",
    "            log_str = \"Epoch %d \\t Loss=%.4g \\t Model: y = %.4gx1 + %.4gx2 + %.4g\"\n",
    "            print(log_str % (e, loss, w[1], w[2], w[0]))\n",
    "\n",
    "writer.close()    "
   ]
  },
  {
   "cell_type": "code",
   "execution_count": null,
   "id": "74833ea4-5d1e-44d4-973c-43e510700feb",
   "metadata": {},
   "outputs": [],
   "source": [
    "print(len(loss_data))"
   ]
  },
  {
   "cell_type": "code",
   "execution_count": null,
   "id": "7a5558e6-017b-4ec7-8ad8-4879dc72d6ef",
   "metadata": {},
   "outputs": [],
   "source": [
    "import matplotlib.pyplot as plt\n",
    "import seaborn as sns\n",
    "sns.set(context = \"notebook\", style = \"whitegrid\", palette = \"dark\")\n",
    "\n",
    "ax = sns.lineplot (x = 'epoch', y = 'loss', data = pd.DataFrame({'loss': loss_data, 'epoch': np.arange(epoch)}))\n",
    "ax.set_xlabel('epoch')\n",
    "ax.set_ylabel('loss')\n",
    "plt.show()"
   ]
  }
 ],
 "metadata": {
  "kernelspec": {
   "display_name": "Python (tensorflow)",
   "language": "python",
   "name": "tensorflow"
  },
  "language_info": {
   "codemirror_mode": {
    "name": "ipython",
    "version": 3
   },
   "file_extension": ".py",
   "mimetype": "text/x-python",
   "name": "python",
   "nbconvert_exporter": "python",
   "pygments_lexer": "ipython3",
   "version": "3.10.12"
  }
 },
 "nbformat": 4,
 "nbformat_minor": 5
}
