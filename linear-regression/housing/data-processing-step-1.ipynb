{
 "cells": [
  {
   "cell_type": "markdown",
   "id": "4f8f645e",
   "metadata": {},
   "source": [
    "## Univariable House Price Prediction"
   ]
  },
  {
   "cell_type": "code",
   "execution_count": null,
   "id": "8d0f1482",
   "metadata": {},
   "outputs": [],
   "source": [
    "import pandas as pd\n",
    "import seaborn as sns\n",
    "sns.set(context = \"notebook\", style = \"whitegrid\", palette = \"dark\")"
   ]
  },
  {
   "cell_type": "code",
   "execution_count": null,
   "id": "d2cff60f",
   "metadata": {},
   "outputs": [],
   "source": [
    "df_2d = pd.read_csv('data-2d.csv', names = ['square', 'price'])\n",
    "sns.lmplot(x = 'square', y = 'price', data = df_2d, height = 6, fit_reg = True)"
   ]
  },
  {
   "cell_type": "code",
   "execution_count": null,
   "id": "8dc1c42a",
   "metadata": {},
   "outputs": [],
   "source": [
    "df_2d.info()"
   ]
  },
  {
   "cell_type": "markdown",
   "id": "e0dadaa7",
   "metadata": {},
   "source": [
    "## Multivariable House Price Prediction"
   ]
  },
  {
   "cell_type": "code",
   "execution_count": null,
   "id": "c906b5f8",
   "metadata": {},
   "outputs": [],
   "source": [
    "import matplotlib.pyplot as plt\n",
    "\n",
    "from mpl_toolkits import mplot3d\n",
    "\n",
    "df_3d = pd.read_csv('data-3d.csv', names = ['square', 'bedrooms', 'price'])\n",
    "df_3d.head()"
   ]
  },
  {
   "cell_type": "code",
   "execution_count": null,
   "id": "2e0d70f1",
   "metadata": {},
   "outputs": [],
   "source": [
    "fig = plt.figure()\n",
    "\n",
    "ax = plt.axes(projection = '3d')\n",
    "ax.set_xlabel('square')\n",
    "ax.set_ylabel('bedrooms')\n",
    "ax.set_zlabel('price')\n",
    "\n",
    "ax.scatter3D(df_3d['square'], df_3d['bedrooms'], df_3d['price'], c = df_3d['price'], cmap = 'Greens')"
   ]
  },
  {
   "cell_type": "markdown",
   "id": "dda5aab8",
   "metadata": {},
   "source": [
    "## Data Normalization"
   ]
  },
  {
   "cell_type": "code",
   "execution_count": null,
   "id": "6d1d64ce",
   "metadata": {},
   "outputs": [],
   "source": [
    "def normalize_feature(df):\n",
    "    return df.apply(lambda column: (column - column.mean()) / column.std())\n",
    "\n",
    "df = normalize_feature(df_3d)\n",
    "df.head()"
   ]
  },
  {
   "cell_type": "code",
   "execution_count": null,
   "id": "3479fd6c",
   "metadata": {},
   "outputs": [],
   "source": [
    "ax = plt.axes(projection = '3d')\n",
    "ax.set_xlabel('square')\n",
    "ax.set_ylabel('bedrooms')\n",
    "ax.set_zlabel('price')\n",
    "ax.scatter3D(df['square'], df['bedrooms'], df['price'], c = df['price'], cmap = 'Reds')"
   ]
  },
  {
   "cell_type": "markdown",
   "id": "d5c1ccf3",
   "metadata": {},
   "source": [
    "## Data Processing: Add Ones Column"
   ]
  },
  {
   "cell_type": "code",
   "execution_count": null,
   "id": "af65d782",
   "metadata": {},
   "outputs": [],
   "source": [
    "import numpy as np\n",
    "ones = pd.DataFrame({'ones': np.ones(len(df))})\n",
    "ones.info()"
   ]
  },
  {
   "cell_type": "code",
   "execution_count": null,
   "id": "5421d7e2",
   "metadata": {},
   "outputs": [],
   "source": [
    "df = pd.concat([ones, df], axis = 1)\n",
    "print(df.head())\n",
    "print(df.info())"
   ]
  }
 ],
 "metadata": {
  "kernelspec": {
   "display_name": "Python 3 (ipykernel)",
   "language": "python",
   "name": "python3"
  },
  "language_info": {
   "codemirror_mode": {
    "name": "ipython",
    "version": 3
   },
   "file_extension": ".py",
   "mimetype": "text/x-python",
   "name": "python",
   "nbconvert_exporter": "python",
   "pygments_lexer": "ipython3",
   "version": "3.9.7"
  }
 },
 "nbformat": 4,
 "nbformat_minor": 5
}
